{
  "nbformat": 4,
  "nbformat_minor": 0,
  "metadata": {
    "colab": {
      "name": "Untitled",
      "provenance": [],
      "authorship_tag": "ABX9TyORLN/v1umysDBUHv52N9+a",
      "include_colab_link": true
    },
    "kernelspec": {
      "name": "python3",
      "display_name": "Python 3"
    }
  },
  "cells": [
    {
      "cell_type": "markdown",
      "metadata": {
        "id": "view-in-github",
        "colab_type": "text"
      },
      "source": [
        "<a href=\"https://colab.research.google.com/github/ayshalbt/python/blob/master/Untitled.ipynb\" target=\"_parent\"><img src=\"https://colab.research.google.com/assets/colab-badge.svg\" alt=\"Open In Colab\"/></a>"
      ]
    },
    {
      "cell_type": "code",
      "metadata": {
        "id": "nSYtk-kzltRE",
        "colab_type": "code",
        "colab": {}
      },
      "source": [
        " 1\n",
        "string1 = input(\"Enter the first string: \")\n",
        "print(string1,end = \"\\n\")\n",
        "string2 = input(\"Enter the second string: \")\n",
        "print(string2,end = \"\\n\")\n",
        "print(\"Are both strings equal or not: \",end = \" \")\n",
        "if (string1 == string2):\n",
        "  print(\"Equal\")\n",
        "else:\n",
        "  print(\"Not Equal\")"
      ],
      "execution_count": null,
      "outputs": []
    },
    {
      "cell_type": "code",
      "metadata": {
        "id": "oeX1OUinnQXi",
        "colab_type": "code",
        "colab": {
          "base_uri": "https://localhost:8080/",
          "height": 68
        },
        "outputId": "6e45692f-a3de-48df-df40-59dc42657af3"
      },
      "source": [
        " 2\n",
        "a = int(input(\"Enter the first number: \"))\n",
        "b = int(input(\"Enter the second number: \"))\n",
        "sum = a+b\n",
        "print(\"sum = \",sum)"
      ],
      "execution_count": 2,
      "outputs": [
        {
          "output_type": "stream",
          "text": [
            "Enter the first number: 22\n",
            "Enter the second number: 66\n",
            "sum =  88\n"
          ],
          "name": "stdout"
        }
      ]
    },
    {
      "cell_type": "code",
      "metadata": {
        "id": "8H9ZLAP6nU7v",
        "colab_type": "code",
        "colab": {
          "base_uri": "https://localhost:8080/",
          "height": 51
        },
        "outputId": "23c323e7-3fa4-48cb-a4a8-97d2a83be238"
      },
      "source": [
        " 3\n",
        "number = int(input(\"Enter a number: \"))\n",
        "sqrt = number**0.5\n",
        "print(\"square root: \",sqrt)"
      ],
      "execution_count": 3,
      "outputs": [
        {
          "output_type": "stream",
          "text": [
            "Enter a number: 64\n",
            "square root:  8.0\n"
          ],
          "name": "stdout"
        }
      ]
    },
    {
      "cell_type": "code",
      "metadata": {
        "id": "pnGya2WBnYwa",
        "colab_type": "code",
        "colab": {
          "base_uri": "https://localhost:8080/",
          "height": 105
        },
        "outputId": "9e7daed3-f0bf-4185-8416-157a7a482f26"
      },
      "source": [
        " 4\n",
        "a = float(input(\"enter the first side: \"))\n",
        "b = float(input(\"enter the second side: \"))\n",
        "c = float(input(\"enter the third side: \"))\n",
        "s = (a+b+c)/2\n",
        "area = (s*(s-a)*(s-b)*(s-c))**0.5\n",
        "print(\"The area of the triangle is \",area)"
      ],
      "execution_count": 5,
      "outputs": [
        {
          "output_type": "stream",
          "text": [
            "enter the first side: 4\n",
            "enter the second side: 6\n",
            "enter the third side: 8\n",
            "The area of the triangle is  11.61895003862225\n"
          ],
          "name": "stdout"
        }
      ]
    },
    {
      "cell_type": "code",
      "metadata": {
        "id": "ahgt1xELnf2X",
        "colab_type": "code",
        "colab": {
          "base_uri": "https://localhost:8080/",
          "height": 51
        },
        "outputId": "2a07f7f5-cca9-4c01-8843-68b6413b8310"
      },
      "source": [
        " 5\n",
        "celsius = float(input(\"enter the temperature in celsius: \"))\n",
        "fahrenheit = (celsius*9/5)+32\n",
        "print(\"Temperature in fahrenheit is: \",fahrenheit)"
      ],
      "execution_count": 6,
      "outputs": [
        {
          "output_type": "stream",
          "text": [
            "enter the temperature in celsius: 100\n",
            "Temperature in fahrenheit is:  212.0\n"
          ],
          "name": "stdout"
        }
      ]
    },
    {
      "cell_type": "code",
      "metadata": {
        "id": "dtm_I9hSnoCw",
        "colab_type": "code",
        "colab": {
          "base_uri": "https://localhost:8080/",
          "height": 51
        },
        "outputId": "e0a6a270-377b-4828-cd27-afcac1404a50"
      },
      "source": [
        " 6\n",
        "num = int(input(\"enter a number: \"))\n",
        "if num > 0:\n",
        "  print(\"{0} is a positive number\".format(num))\n",
        "elif num == 0:\n",
        "  print(\"{0} is zero\".format(num))\n",
        "else:\n",
        "  print(\"{0} is a negative number\".format(num))"
      ],
      "execution_count": 7,
      "outputs": [
        {
          "output_type": "stream",
          "text": [
            "enter a number: -8\n",
            "-8 is a negative number\n"
          ],
          "name": "stdout"
        }
      ]
    },
    {
      "cell_type": "code",
      "metadata": {
        "id": "0eD9LXgunv6J",
        "colab_type": "code",
        "colab": {
          "base_uri": "https://localhost:8080/",
          "height": 85
        },
        "outputId": "39945a17-51be-45c4-b2d6-c78dc225706f"
      },
      "source": [
        " 7\n",
        "num1 = int(input(\"enter the first number: \"))\n",
        "num2 = int(input(\"enter the second number: \"))\n",
        "num3 = int(input(\"enter the third number: \"))\n",
        "if(num1 > num2) and (num1 > num3):\n",
        "  largest = num1\n",
        "elif(num2 > num1) and (num2 > num3):\n",
        "  largest = num2\n",
        "else:\n",
        "  largest = num3\n",
        "print(\"the largest number is \",largest)"
      ],
      "execution_count": 8,
      "outputs": [
        {
          "output_type": "stream",
          "text": [
            "enter the first number: 24\n",
            "enter the second number: 67\n",
            "enter the third number: 45\n",
            "the largest number is  67\n"
          ],
          "name": "stdout"
        }
      ]
    }
  ]
}